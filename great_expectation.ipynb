{
 "cells": [
  {
   "metadata": {
    "ExecuteTime": {
     "end_time": "2024-08-19T01:53:20.157422Z",
     "start_time": "2024-08-19T01:53:20.153153Z"
    }
   },
   "cell_type": "code",
   "source": [
    "import pandas as pd\n",
    "import great_expectations as ge\n",
    "from great_expectations.dataset import PandasDataset\n"
   ],
   "id": "365db0e57b67ffd9",
   "outputs": [],
   "execution_count": 17
  },
  {
   "metadata": {
    "ExecuteTime": {
     "end_time": "2024-08-19T16:59:46.726598Z",
     "start_time": "2024-08-19T16:59:46.482583Z"
    }
   },
   "cell_type": "code",
   "source": [
    "# Load your CSV file into a DataFrame\n",
    "df = pd.read_csv('data_clean.csv.csv')"
   ],
   "id": "97d0131c0b3ad45",
   "outputs": [],
   "execution_count": 40
  },
  {
   "metadata": {
    "ExecuteTime": {
     "end_time": "2024-08-19T16:59:47.913522Z",
     "start_time": "2024-08-19T16:59:47.817347Z"
    }
   },
   "cell_type": "code",
   "source": "df.info()",
   "id": "493999dc99ef0709",
   "outputs": [
    {
     "name": "stdout",
     "output_type": "stream",
     "text": [
      "<class 'pandas.core.frame.DataFrame'>\n",
      "RangeIndex: 9994 entries, 0 to 9993\n",
      "Data columns (total 15 columns):\n",
      " #   Column        Non-Null Count  Dtype  \n",
      "---  ------        --------------  -----  \n",
      " 0   id            9994 non-null   int64  \n",
      " 1   ship_mode     9994 non-null   object \n",
      " 2   segment       9994 non-null   object \n",
      " 3   country       9994 non-null   object \n",
      " 4   city          9994 non-null   object \n",
      " 5   state         9994 non-null   object \n",
      " 6   postal_code   9994 non-null   int64  \n",
      " 7   region        9994 non-null   object \n",
      " 8   category      9994 non-null   object \n",
      " 9   sub_category  9994 non-null   object \n",
      " 10  sales         9994 non-null   float64\n",
      " 11  quantity      9994 non-null   int64  \n",
      " 12  discount      9994 non-null   float64\n",
      " 13  profit        9994 non-null   float64\n",
      " 14  created_at    9994 non-null   object \n",
      "dtypes: float64(3), int64(3), object(9)\n",
      "memory usage: 1.1+ MB\n"
     ]
    }
   ],
   "execution_count": 41
  },
  {
   "cell_type": "code",
   "id": "initial_id",
   "metadata": {
    "collapsed": true,
    "ExecuteTime": {
     "end_time": "2024-08-19T00:46:04.698829Z",
     "start_time": "2024-08-19T00:46:04.691079Z"
    }
   },
   "source": [
    "# Create a Great Expectations dataset\n",
    "class CustomDataset(PandasDataset):\n",
    "    # Optionally, define custom expectations or methods here\n",
    "    pass\n",
    "\n",
    "# Instantiate the Great Expectations dataset\n",
    "ge_df = CustomDataset(df)"
   ],
   "outputs": [],
   "execution_count": 8
  },
  {
   "metadata": {
    "ExecuteTime": {
     "end_time": "2024-08-19T01:56:02.549078Z",
     "start_time": "2024-08-19T01:56:02.543520Z"
    }
   },
   "cell_type": "code",
   "source": [
    "# convert the pandas dataframe to a great_expectations dataset\n",
    "df_ge = ge.from_pandas(df)"
   ],
   "id": "430bda8eeb71f631",
   "outputs": [],
   "execution_count": 23
  },
  {
   "metadata": {
    "ExecuteTime": {
     "end_time": "2024-08-19T01:56:03.843105Z",
     "start_time": "2024-08-19T01:56:03.831405Z"
    }
   },
   "cell_type": "code",
   "source": [
    "# Expect the unique_id to be unique\n",
    "result_unique = df_ge.expect_column_values_to_be_unique(column=\"id\")\n",
    "result_unique"
   ],
   "id": "83c795090deeb054",
   "outputs": [
    {
     "data": {
      "text/plain": [
       "{\n",
       "  \"success\": true,\n",
       "  \"result\": {\n",
       "    \"element_count\": 9994,\n",
       "    \"missing_count\": 0,\n",
       "    \"missing_percent\": 0.0,\n",
       "    \"unexpected_count\": 0,\n",
       "    \"unexpected_percent\": 0.0,\n",
       "    \"unexpected_percent_total\": 0.0,\n",
       "    \"unexpected_percent_nonmissing\": 0.0,\n",
       "    \"partial_unexpected_list\": []\n",
       "  },\n",
       "  \"meta\": {},\n",
       "  \"exception_info\": {\n",
       "    \"raised_exception\": false,\n",
       "    \"exception_traceback\": null,\n",
       "    \"exception_message\": null\n",
       "  }\n",
       "}"
      ]
     },
     "execution_count": 24,
     "metadata": {},
     "output_type": "execute_result"
    }
   ],
   "execution_count": 24
  },
  {
   "metadata": {
    "ExecuteTime": {
     "end_time": "2024-08-19T08:39:08.360247Z",
     "start_time": "2024-08-19T08:39:08.343347Z"
    }
   },
   "cell_type": "code",
   "source": [
    "# between 0-300\n",
    "result_between = df_ge.expect_column_values_to_be_between(column=\"quantity\", min_value=0, max_value=300)\n",
    "result_between"
   ],
   "id": "fae08b556ac919ae",
   "outputs": [
    {
     "data": {
      "text/plain": [
       "{\n",
       "  \"success\": true,\n",
       "  \"result\": {\n",
       "    \"element_count\": 9994,\n",
       "    \"missing_count\": 0,\n",
       "    \"missing_percent\": 0.0,\n",
       "    \"unexpected_count\": 0,\n",
       "    \"unexpected_percent\": 0.0,\n",
       "    \"unexpected_percent_total\": 0.0,\n",
       "    \"unexpected_percent_nonmissing\": 0.0,\n",
       "    \"partial_unexpected_list\": []\n",
       "  },\n",
       "  \"meta\": {},\n",
       "  \"exception_info\": {\n",
       "    \"raised_exception\": false,\n",
       "    \"exception_traceback\": null,\n",
       "    \"exception_message\": null\n",
       "  }\n",
       "}"
      ]
     },
     "execution_count": 27,
     "metadata": {},
     "output_type": "execute_result"
    }
   ],
   "execution_count": 27
  },
  {
   "metadata": {
    "ExecuteTime": {
     "end_time": "2024-08-19T08:39:52.841416Z",
     "start_time": "2024-08-19T08:39:52.825456Z"
    }
   },
   "cell_type": "code",
   "source": [
    "# Category should be within a predefined set of values\n",
    "result_in_set = df_ge.expect_column_values_to_be_in_set(column=\"category\", value_set=[\"Technology\", \"Furniture\", \"Office Supplies\"])\n",
    "result_in_set"
   ],
   "id": "26cda6de1b8cf11f",
   "outputs": [
    {
     "data": {
      "text/plain": [
       "{\n",
       "  \"success\": true,\n",
       "  \"result\": {\n",
       "    \"element_count\": 9994,\n",
       "    \"missing_count\": 0,\n",
       "    \"missing_percent\": 0.0,\n",
       "    \"unexpected_count\": 0,\n",
       "    \"unexpected_percent\": 0.0,\n",
       "    \"unexpected_percent_total\": 0.0,\n",
       "    \"unexpected_percent_nonmissing\": 0.0,\n",
       "    \"partial_unexpected_list\": []\n",
       "  },\n",
       "  \"meta\": {},\n",
       "  \"exception_info\": {\n",
       "    \"raised_exception\": false,\n",
       "    \"exception_traceback\": null,\n",
       "    \"exception_message\": null\n",
       "  }\n",
       "}"
      ]
     },
     "execution_count": 30,
     "metadata": {},
     "output_type": "execute_result"
    }
   ],
   "execution_count": 30
  },
  {
   "metadata": {
    "ExecuteTime": {
     "end_time": "2024-08-19T08:43:11.290746Z",
     "start_time": "2024-08-19T08:43:11.272883Z"
    }
   },
   "cell_type": "code",
   "source": [
    "# Should be type int (integer)\n",
    "result_in_type = df_ge.expect_column_values_to_be_of_type(column=\"quantity\", type_=\"int\")\n",
    "result_in_type"
   ],
   "id": "1a5f103691143696",
   "outputs": [
    {
     "data": {
      "text/plain": [
       "{\n",
       "  \"success\": true,\n",
       "  \"result\": {\n",
       "    \"observed_value\": \"int64\"\n",
       "  },\n",
       "  \"meta\": {},\n",
       "  \"exception_info\": {\n",
       "    \"raised_exception\": false,\n",
       "    \"exception_traceback\": null,\n",
       "    \"exception_message\": null\n",
       "  }\n",
       "}"
      ]
     },
     "execution_count": 31,
     "metadata": {},
     "output_type": "execute_result"
    }
   ],
   "execution_count": 31
  },
  {
   "metadata": {
    "ExecuteTime": {
     "end_time": "2024-08-19T08:43:26.515624Z",
     "start_time": "2024-08-19T08:43:26.506862Z"
    }
   },
   "cell_type": "code",
   "source": [
    "# Expect a column to exist\n",
    "result_column_exist = df_ge.expect_column_to_exist(column=\"segment\")\n",
    "result_column_exist\n"
   ],
   "id": "9c95504964f8cc72",
   "outputs": [
    {
     "data": {
      "text/plain": [
       "{\n",
       "  \"success\": true,\n",
       "  \"result\": {},\n",
       "  \"meta\": {},\n",
       "  \"exception_info\": {\n",
       "    \"raised_exception\": false,\n",
       "    \"exception_traceback\": null,\n",
       "    \"exception_message\": null\n",
       "  }\n",
       "}"
      ]
     },
     "execution_count": 33,
     "metadata": {},
     "output_type": "execute_result"
    }
   ],
   "execution_count": 33
  },
  {
   "metadata": {
    "ExecuteTime": {
     "end_time": "2024-08-19T08:45:32.637267Z",
     "start_time": "2024-08-19T08:45:32.622742Z"
    }
   },
   "cell_type": "code",
   "source": [
    "# Expect unique values across multiple columns\n",
    "result_multi_unique = df_ge.expect_column_values_to_be_unique(column=\"id\")\n",
    "result_multi_unique"
   ],
   "id": "eecf3f84e209c621",
   "outputs": [
    {
     "data": {
      "text/plain": [
       "{\n",
       "  \"success\": true,\n",
       "  \"result\": {\n",
       "    \"element_count\": 9994,\n",
       "    \"missing_count\": 0,\n",
       "    \"missing_percent\": 0.0,\n",
       "    \"unexpected_count\": 0,\n",
       "    \"unexpected_percent\": 0.0,\n",
       "    \"unexpected_percent_total\": 0.0,\n",
       "    \"unexpected_percent_nonmissing\": 0.0,\n",
       "    \"partial_unexpected_list\": []\n",
       "  },\n",
       "  \"meta\": {},\n",
       "  \"exception_info\": {\n",
       "    \"raised_exception\": false,\n",
       "    \"exception_traceback\": null,\n",
       "    \"exception_message\": null\n",
       "  }\n",
       "}"
      ]
     },
     "execution_count": 37,
     "metadata": {},
     "output_type": "execute_result"
    }
   ],
   "execution_count": 37
  },
  {
   "metadata": {},
   "cell_type": "code",
   "outputs": [
    {
     "data": {
      "text/plain": [
       "{\n",
       "  \"success\": true,\n",
       "  \"result\": {\n",
       "    \"observed_value\": [\n",
       "      \"Consumer\"\n",
       "    ],\n",
       "    \"element_count\": 9994,\n",
       "    \"missing_count\": null,\n",
       "    \"missing_percent\": null\n",
       "  },\n",
       "  \"meta\": {},\n",
       "  \"exception_info\": {\n",
       "    \"raised_exception\": false,\n",
       "    \"exception_traceback\": null,\n",
       "    \"exception_message\": null\n",
       "  }\n",
       "}"
      ]
     },
     "execution_count": 39,
     "metadata": {},
     "output_type": "execute_result"
    }
   ],
   "execution_count": 39,
   "source": [
    "# Expect a column to be of a certain data type\n",
    "result_column_type = df_ge.expect_column_most_common_value_to_be_in_set(column=\"segment\", value_set=[\"Consumer\", \"Corporate\", \"Home Office\"])\n",
    "result_column_type"
   ],
   "id": "48171d8f5783b617"
  }
 ],
 "metadata": {
  "kernelspec": {
   "display_name": "Python 3",
   "language": "python",
   "name": "python3"
  },
  "language_info": {
   "codemirror_mode": {
    "name": "ipython",
    "version": 2
   },
   "file_extension": ".py",
   "mimetype": "text/x-python",
   "name": "python",
   "nbconvert_exporter": "python",
   "pygments_lexer": "ipython2",
   "version": "2.7.6"
  }
 },
 "nbformat": 4,
 "nbformat_minor": 5
}
